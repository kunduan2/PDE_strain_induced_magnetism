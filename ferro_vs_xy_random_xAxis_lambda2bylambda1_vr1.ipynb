{
 "cells": [
  {
   "cell_type": "code",
   "execution_count": 10,
   "id": "3ed47f1c",
   "metadata": {
    "code_folding": []
   },
   "outputs": [
    {
     "data": {
      "text/html": [
       "<style>.container { width:1200% !important; }</style>"
      ],
      "text/plain": [
       "<IPython.core.display.HTML object>"
      ]
     },
     "metadata": {},
     "output_type": "display_data"
    },
    {
     "data": {
      "text/html": [
       "<style>.container { width:75% !important; }</style>"
      ],
      "text/plain": [
       "<IPython.core.display.HTML object>"
      ]
     },
     "metadata": {},
     "output_type": "display_data"
    }
   ],
   "source": [
    "############ set-width of the notebook ###############################\n",
    "from IPython.display import display, HTML\n",
    "display(HTML(\"<style>.container { width:1200% !important; }</style>\"))\n",
    "from IPython.display import display, HTML\n",
    "display(HTML(\"<style>.container { width:75% !important; }</style>\"))"
   ]
  },
  {
   "cell_type": "code",
   "execution_count": 6,
   "id": "1ddd3406",
   "metadata": {
    "code_folding": []
   },
   "outputs": [
    {
     "name": "stdout",
     "output_type": "stream",
     "text": [
      "vector diffusion equation solver\n"
     ]
    }
   ],
   "source": [
    "############ import libraries ###############################\n",
    "import numpy as np\n",
    "import matplotlib.pyplot as plt\n",
    "# import matplotlib.animation as animation\n",
    "# from matplotlib.animation import FuncAnimation\n",
    "\n",
    "%matplotlib inline\n",
    "import numpy as np\n",
    "import matplotlib.pyplot as plt\n",
    "import matplotlib.animation as animation\n",
    "from matplotlib.animation import FuncAnimation\n",
    "print(\"vector diffusion equation solver\")\n",
    "\n",
    "%matplotlib inline"
   ]
  },
  {
   "cell_type": "code",
   "execution_count": 7,
   "id": "da5f9e63",
   "metadata": {
    "code_folding": [],
    "scrolled": false
   },
   "outputs": [
    {
     "name": "stdout",
     "output_type": "stream",
     "text": [
      "\n",
      "############### Outputs ###############\n",
      "lambda2 values: [ 0.35714286  0.33333333  0.30952381  0.28571429  0.26190476  0.23809524\n",
      "  0.21428571  0.19047619  0.16666667  0.14285714  0.11904762  0.0952381\n",
      "  0.07142857  0.04761905  0.02380952  0.         -0.02380952 -0.04761905\n",
      " -0.07142857 -0.0952381  -0.11904762 -0.14285714 -0.16666667 -0.19047619\n",
      " -0.21428571 -0.23809524 -0.26190476 -0.28571429 -0.30952381 -0.33333333\n",
      " -0.35714286 -0.38095238 -0.4047619  -0.42857143 -0.45238095 -0.47619048\n",
      " -0.5        -0.52380952 -0.54761905 -0.57142857]\n",
      "x-blocks: 2, y-blocks: 1\n",
      "nx: 210, ny: 25\n",
      "x periodicity: 100 * a0 (a0 = 1)\n",
      "y periodicity: 14 * a0 (a0 = 1)\n",
      "h = 14 * a0 = 14\n",
      "Max delt = 0.25000, Used delt = 0.25000\n",
      "\n",
      "########## Coefficients ##########\n",
      "am = 0.1, bm = 0.1, cm = 0.3, sigma = 0.25, coeff1 = 0.0024\n",
      "bm = 1.0000 * am\n",
      "cm = 3.0000 * am\n",
      "#########################################\n"
     ]
    }
   ],
   "source": [
    "# ===================== Axis Details =====================\n",
    "\n",
    "# X-axis\n",
    "xlen = 210\n",
    "nx0 = 1  # required to devide delx into parts to tune to  more precision (default value = 1)\n",
    "delx = 1/nx0\n",
    "nx = int(xlen/delx)\n",
    "x = np.linspace(0, xlen, nx)\n",
    "xperiod = 100  # solution repeats after 100*a0                      \n",
    "xblocks = int(xlen/xperiod)                               \n",
    "\n",
    "# Y-axis\n",
    "ylen = 25\n",
    "ny0 = 1\n",
    "dely = 1/ny0        # required to devide dely into parts for more precision (default value = 1)\n",
    "ny = int(ylen/dely)\n",
    "y = np.linspace(0, ylen, ny)\n",
    "yperiod = 14 # solution repeats after  14*a0. this is equivalent to h defined later\n",
    "yblocks = int(ylen/yperiod)\n",
    "\n",
    "# Mesgrid\n",
    "X, Y = np.meshgrid(x,y)\n",
    "\n",
    "# ===================== Time Details =====================\n",
    "\n",
    "\"\"\"\n",
    "calculation of time steps. Maximum value of the time steps is given by \n",
    "\"delt_max\" (for anu values greater than this the solution doees not converge)\n",
    "\"\"\"\n",
    "\n",
    "alpha = 1\n",
    "nt = 300\n",
    "delt_max = (delx**2)/(4*alpha)\n",
    "delt = delt_max\n",
    "gamma = (alpha*delt) / (delx**2)\n",
    "\n",
    "# ===================== Coefficients =====================  \n",
    "\n",
    "am =  (0.1)*1\n",
    "bm = abs(am)\n",
    "cm = 0.3\n",
    "lambda1 = -30\n",
    "lambda2Vec = np.linspace(-lambda1*5, lambda1*8, 40)\n",
    "\n",
    "h = 14\n",
    "pi = np.pi\n",
    "sigma = .25\n",
    "b0 = .1\n",
    "coeff1 = (b0/(4*(1 - sigma)*(h)))*1\n",
    "\n",
    "\n",
    "# ===================== Output =====================\n",
    "print(\"\\n############### Outputs ###############\")\n",
    "print(f\"lambda2 values: {coeff1 * lambda2Vec}\")\n",
    "print(f\"x-blocks: {xblocks}, y-blocks: {yblocks}\")\n",
    "print(f\"nx: {nx}, ny: {ny}\")\n",
    "print(f\"x periodicity: {xperiod} * a0 (a0 = {nx0})\")\n",
    "print(f\"y periodicity: {yperiod} * a0 (a0 = {ny0})\")\n",
    "print(f\"h = {h} * a0 = {h}\")\n",
    "print(f\"Max delt = {delt_max:.5f}, Used delt = {delt:.5f}\")\n",
    "\n",
    "print(\"\\n########## Coefficients ##########\")\n",
    "print(f\"am = {am}, bm = {bm}, cm = {cm}, sigma = {sigma}, coeff1 = {coeff1:.4f}\")\n",
    "print(f\"bm = {abs(bm) / am:.4f} * am\")\n",
    "print(f\"cm = {abs(cm) / am:.4f} * am\")\n",
    "print(\"#########################################\")"
   ]
  },
  {
   "cell_type": "markdown",
   "id": "8b86e07c",
   "metadata": {},
   "source": [
    "Note: We at first define empty matrix (3D) and then fill the matrix with a constant value. mx is given by u1, my is given by u2, mz is given by u3. And next we put the BC"
   ]
  },
  {
   "cell_type": "markdown",
   "id": "6a28836b",
   "metadata": {},
   "source": [
    "## The vector PDE solver (to run following: select all -> crtl / and then run), to plot the previous results run from files described later"
   ]
  },
  {
   "cell_type": "code",
   "execution_count": 28,
   "id": "201e793a",
   "metadata": {
    "code_folding": [],
    "scrolled": false
   },
   "outputs": [
    {
     "name": "stdout",
     "output_type": "stream",
     "text": [
      "loop count so far = 1,and time elapsed so far = 21.8s\n",
      "loop count so far = 2,and time elapsed so far = 43.9s\n",
      "loop count so far = 3,and time elapsed so far = 65.9s\n",
      "loop count so far = 4,and time elapsed so far = 87.9s\n",
      "loop count so far = 5,and time elapsed so far = 109.9s\n",
      "loop count so far = 6,and time elapsed so far = 131.8s\n",
      "loop count so far = 7,and time elapsed so far = 153.6s\n",
      "loop count so far = 8,and time elapsed so far = 175.2s\n",
      "loop count so far = 9,and time elapsed so far = 199.1s\n",
      "loop count so far = 10,and time elapsed so far = 221.5s\n",
      "loop count so far = 11,and time elapsed so far = 243.5s\n",
      "loop count so far = 12,and time elapsed so far = 265.6s\n",
      "loop count so far = 13,and time elapsed so far = 287.7s\n",
      "loop count so far = 14,and time elapsed so far = 309.5s\n",
      "loop count so far = 15,and time elapsed so far = 331.4s\n",
      "loop count so far = 16,and time elapsed so far = 353.2s\n",
      "loop count so far = 17,and time elapsed so far = 375.0s\n",
      "loop count so far = 18,and time elapsed so far = 397.0s\n",
      "loop count so far = 19,and time elapsed so far = 419.5s\n",
      "loop count so far = 20,and time elapsed so far = 441.4s\n",
      "loop count so far = 21,and time elapsed so far = 463.3s\n",
      "loop count so far = 22,and time elapsed so far = 485.1s\n",
      "loop count so far = 23,and time elapsed so far = 507.4s\n",
      "loop count so far = 24,and time elapsed so far = 529.3s\n",
      "loop count so far = 25,and time elapsed so far = 551.5s\n",
      "loop count so far = 26,and time elapsed so far = 573.7s\n",
      "loop count so far = 27,and time elapsed so far = 595.7s\n",
      "loop count so far = 28,and time elapsed so far = 617.5s\n",
      "loop count so far = 29,and time elapsed so far = 639.6s\n",
      "loop count so far = 30,and time elapsed so far = 661.8s\n",
      "loop count so far = 31,and time elapsed so far = 683.7s\n",
      "loop count so far = 32,and time elapsed so far = 706.1s\n",
      "loop count so far = 33,and time elapsed so far = 727.8s\n",
      "loop count so far = 34,and time elapsed so far = 751.1s\n",
      "loop count so far = 35,and time elapsed so far = 773.3s\n",
      "loop count so far = 36,and time elapsed so far = 796.0s\n",
      "loop count so far = 37,and time elapsed so far = 818.3s\n",
      "loop count so far = 38,and time elapsed so far = 840.4s\n",
      "loop count so far = 39,and time elapsed so far = 862.9s\n",
      "loop count so far = 40,and time elapsed so far = 884.7s\n",
      " \n",
      "\n",
      "Done!!: total loop count = 12000, total time elapsed = 885.4s\n"
     ]
    }
   ],
   "source": [
    "\n",
    "import time\n",
    "\n",
    "# ====================== PARAMETERS & INITIALIZATION ======================\n",
    "\n",
    "start_time = time.time()\n",
    "delt1 = 0\n",
    "delt2 = 0\n",
    "count_lambda = 0\n",
    "\n",
    "# Initialize solution arrays u1, u2, u3\n",
    "u1 = np.empty((nx, ny))\n",
    "u2 = np.empty((nx, ny))\n",
    "u3 = np.empty((nx, ny))\n",
    "u1.fill(.5,)\n",
    "u2.fill(.5)\n",
    "u3.fill(.5)\n",
    "\n",
    "u1meanVec = []\n",
    "u2meanVec = []\n",
    "\n",
    "# ====================== MAIN TIME EVOLUTION LOOP =========================\n",
    "\n",
    "for lambda2 in lambda2Vec: \n",
    "    for k in range(0, nt-1, 1):        \n",
    "        tk = time.time()\n",
    "        for i in range(0, nx, 1):\n",
    "            for j in range(0, ny, 1): \n",
    "                u10 = u1[i, j]\n",
    "                u20 = u2[i, j]\n",
    "                u30 = u3[i, j]  \n",
    "                \n",
    "                # ---------- Second Derivatives with Periodic Boundary Conditions ----------\n",
    "                 # x-direction second derivatives\n",
    "                if i==0:\n",
    "                    # we only calculate the following dxx's\n",
    "                    u1xx = (1/delx**2)*(u1[nx-1, j] + u1[i+1, j] - 2*u1[i, j] )\n",
    "                    u2xx = (1/delx**2)*(u2[nx-1, j] + u2[i+1, j] - 2*u2[i, j] )            \n",
    "\n",
    "                elif i==nx-1:\n",
    "                    # we only calculate the following dxx's\n",
    "                    u1xx = (1/delx**2)*(u1[0, j] + u1[i-1, j] - 2*u1[i, j] )\n",
    "                    u2xx = (1/delx**2)*(u2[0, j] + u2[i-1, j] - 2*u2[i, j] )                \n",
    "\n",
    "                else:                \n",
    "                    # we only calculate the following dxx's\n",
    "                    u1xx = (1/delx**2)*(u1[i+1, j] + u1[i-1, j] - 2*u1[i, j] )\n",
    "                    u2xx = (1/delx**2)*(u2[i+1, j] + u2[i-1, j] - 2*u2[i, j] )\n",
    "                    \n",
    "                 # y-direction second derivatives                                            \n",
    "                if j==0:\n",
    "                    # we only calculate the following dxx's\n",
    "                    u1yy = (1/delx**2)*(u1[i, ny-1] + u1[i, 1] - 2*u1[i, j])\n",
    "                    u2yy = (1/delx**2)*(u2[i, ny-1] + u2[i, 1] - 2*u2[i, j])\n",
    "                elif j==ny-1:\n",
    "                    # we donly calculate the following dxx's\n",
    "                    u1yy = (1/delx**2)*(u1[i, 0] + u1[i, j-1] - 2*u1[i, j])\n",
    "                    u2yy = (1/delx**2)*(u2[i, 0] + u2[i, j-1] - 2*u2[i, j])\n",
    "                else:                \n",
    "                    # we donly calculate the following dxx's\n",
    "                    u1yy = (1/delx**2)*(u1[i, j+1] + u1[i, j-1] - 2*u1[i, j] )\n",
    "                    u2yy = (1/delx**2)*(u2[i, j+1] + u2[i, j-1] - 2*u2[i, j] )\n",
    "                    \n",
    "                #---------------- strain-details----------------------------------       \n",
    "                yji = Y[j,i]\n",
    "                xji = X[j,i]\n",
    "                xji = xji - nx/2\n",
    "                # argy = pi*yji/h\n",
    "                sin2y = np.sin(2*pi*yji/(h))\n",
    "                sin1y = np.sin(pi*yji/(h))            \n",
    "                epsilonxx = coeff1*(2*sin2y*np.exp(-2*pi*abs(xji/h))*(1 - 2*sigma + 4*pi*abs(xji/h))\n",
    "                             + sin1y*np.exp(-pi*abs(xji)/h)*(4*pi*sigma*xji/h))\n",
    "                epsilonyy = coeff1*(2*sin2y*np.exp(-2*pi*abs(xji/h))*(1 + 2*sigma - 4*pi*abs(xji/h))\n",
    "                             + sin1y*np.exp(-pi*abs(xji)/h)*(4*pi*xji/h))\n",
    "                #---------------- time-evolution ----------------------------------\n",
    "                u1tkij = (am*u10 + bm*u10**3 - cm*(u1xx + u1yy) \n",
    "                                  + lambda1*(epsilonxx + epsilonyy)*u10 + lambda2*(epsilonxx - (1/2)*epsilonyy)*u10)                                         \n",
    "                u1[i, j] = (u10 - delt*u1tkij)   \n",
    "                u2tkij = (am*u20 + bm*u20**3 - cm*(u2xx + u2yy) \n",
    "                                  + lambda1*(epsilonxx + epsilonyy)*u20 + lambda2*(epsilonyy - (1/2)*epsilonxx)*u20)\n",
    "                u2[i, j] = (u20 - delt*u2tkij)\n",
    "                \n",
    "            #------------ \"forced\"-periodicity (outside j-loop)------------------------      \n",
    "            for n in range(yblocks+1):\n",
    "                    u1[i, 14*n*ny0] = u1[i, 0]\n",
    "                    u2[i, 14*n*ny0] = u2[i, 0]\n",
    "                    \n",
    "            #------------- \"forced\"-periodicity (outside i-loop)----------------------- \n",
    "            for n in range(xblocks+1):\n",
    "                    u1[100*n*nx0, j] = u1[0, j]  \n",
    "                    u2[100*n*nx0, j] = u2[0, j] \n",
    "        delt1 += abs(tk - time.time())\n",
    "        \n",
    "        #----- time-loop counter, the end = '\\r' print and erased after each loop\n",
    "        print(f\"time loop = {k} and time elpsed so far = {round(delt1, 1)}s\", end=\"\\r\")\n",
    "    delt2 += delt1\n",
    "    delt1 = 0\n",
    "    count_lambda += 1\n",
    "    print(f\"loop count so far = {count_lambda},and time elapsed so far = {round(delt2, 1)}s\")\n",
    "    u1meanVec.append(np.mean(u1))\n",
    "    u2meanVec.append(np.mean(u2))\n",
    "    \n",
    "######################################## end-loop #############################################################\n",
    "end_time = time.time()\n",
    "print(f\" \")\n",
    "print(f\"\\nDone!!: total loop count = {nt*len(lambda2Vec)}, total time elapsed = {round(end_time - start_time, 1)}s\")"
   ]
  },
  {
   "cell_type": "markdown",
   "id": "db1f10e2",
   "metadata": {},
   "source": [
    "## Plot from the saved file"
   ]
  },
  {
   "cell_type": "code",
   "execution_count": 11,
   "id": "753a0352",
   "metadata": {},
   "outputs": [],
   "source": [
    "################## Save matrices #########################################################\n",
    "# # for single matrices use\n",
    "# # myfilename = \"cm_vs_mx_my_for_am{}_lambda1{}_lambda1{}.npy\".format(am, lambda1, lambda2)\n",
    "# # np.save(myfilename, u2)\n",
    "# # my = np.load(\"my_each_lattice_point_divided_into_1.npy\")\n",
    "\n",
    "# # for multiple files\n",
    "myfilename = \"magnetism_from_strain_coupled_variation_with_lambda2Bylambda1_vr1_b.npz\".format(am, bm, cm)\n",
    "np.savez(myfilename,  lambda2Vec=lambda2Vec, mx=u1meanVec, my=u2meanVec, am=am, bm=bm, cm=cm,\n",
    "         lambda1=lambda1, coeff1=coeff1, timesteps=nt)"
   ]
  },
  {
   "cell_type": "code",
   "execution_count": 23,
   "id": "7da5b00d",
   "metadata": {},
   "outputs": [
    {
     "name": "stdout",
     "output_type": "stream",
     "text": [
      "lambda2 values = [-5.    -4.667 -4.333 -4.    -3.667 -3.333 -3.    -2.667 -2.333 -2.\n",
      " -1.667 -1.333 -1.    -0.667 -0.333 -0.     0.333  0.667  1.     1.333\n",
      "  1.667  2.     2.333  2.667  3.     3.333  3.667  4.     4.333  4.667\n",
      "  5.     5.333  5.667  6.     6.333  6.667  7.     7.333  7.667  8.   ] \n",
      "coeff1*lambda2 values = [-0.012 -0.011 -0.01  -0.01  -0.009 -0.008 -0.007 -0.006 -0.006 -0.005\n",
      " -0.004 -0.003 -0.002 -0.002 -0.001 -0.     0.001  0.002  0.002  0.003\n",
      "  0.004  0.005  0.006  0.006  0.007  0.008  0.009  0.01   0.01   0.011\n",
      "  0.012  0.013  0.013  0.014  0.015  0.016  0.017  0.017  0.018  0.019] \n",
      "saved_am = 0.1, saved_bm = 0.1, saved_cm = 0.3, saved_lambda1 = -30,saved_coeff1 = 0.002380952380952381, saved_max_time_steps = 300\n"
     ]
    }
   ],
   "source": [
    "#############################################################################################\n",
    "data = np.load(myfilename)\n",
    "################################## end ####################################################\n",
    "saved_am = data[\"am\"]\n",
    "saved_bm = data[\"bm\"]\n",
    "saved_cm = data[\"cm\"]\n",
    "saved_lambda1 = data[\"lambda1\"]\n",
    "saved_coeff1 = data[\"coeff1\"]\n",
    "saved_max_time_steps = data[\"timesteps\"]\n",
    "\n",
    "saved_x = data[\"lambda2Vec\"]/lambda1\n",
    "# saved_y = data[\"lambda1Vec\"]\n",
    "# Xgrid = data[\"cmMesh\"]\n",
    "# Ygrid = data[\"lambda1Mesh\"]\n",
    "mx = data[\"mx\"]\n",
    "my = data[\"my\"]\n",
    "\n",
    "\n",
    "\n",
    "print(f\"lambda2 values = {np.round(saved_x, 3)}\", end=\" \")\n",
    "print(f\"\\ncoeff1*lambda2 values = {np.round(saved_x*saved_coeff1, 3)}\", end=\" \")\n",
    "print(f\"\\nsaved_am = {saved_am}, saved_bm = {saved_bm }, saved_cm = {saved_cm }, saved_lambda1 = {saved_lambda1 },saved_coeff1 = {saved_coeff1 }, saved_max_time_steps = {saved_max_time_steps}\")"
   ]
  },
  {
   "cell_type": "code",
   "execution_count": 24,
   "id": "0219e447",
   "metadata": {},
   "outputs": [
    {
     "data": {
      "image/png": "[encoded data removed]",
      "text/plain": [
       "<Figure size 576x432 with 1 Axes>"
      ]
     },
     "metadata": {
      "needs_background": "light"
     },
     "output_type": "display_data"
    }
   ],
   "source": [
    "import matplotlib.pyplot as plt\n",
    "\n",
    "# ----------------- Font and Plot Settings ------------------\n",
    "int1 = 28\n",
    "int2 = 24\n",
    "\n",
    "plt.rcParams.update({\n",
    "    \"text.usetex\": True,              # Use LaTeX for text rendering\n",
    "    \"font.size\": int2,                  # Global font size\n",
    "    \"legend.fontsize\": int1,            # Legend font size\n",
    "    \"axes.labelsize\": int1,            # Axes labels\n",
    "    \"xtick.labelsize\": int2,            # Tick sizes\n",
    "    \"ytick.labelsize\": int2,\n",
    "    \"figure.figsize\": (8, 6),         # Figure size (width, height)\n",
    "    \"lines.linewidth\": 3             # Line thickness\n",
    "})\n",
    "\n",
    "# ----------------- Plotting ------------------\n",
    "plt.figure()\n",
    "plt.plot(saved_x, mx, label=r\"$m_x$\", color='royalblue')\n",
    "plt.plot(saved_x, my, label=r\"$m_y$\", color='darkorange')\n",
    "plt.xlabel(r\"$\\lambda_2/\\lambda_1$\")\n",
    "plt.ylabel(r\"$m_x,\\, m_y$\")\n",
    "plt.legend()\n",
    "plt.grid(True) #, linestyle='--', alpha=0.6)\n",
    "plt.tight_layout()\n",
    "\n",
    "# ----------------- Save High-Resolution Figure ------------------\n",
    "plt.savefig(\"order_parameters_vs_lambda2.png\"),\n",
    "#             , bbox_inches='tight'\n",
    "#             , transparent=True , dpi=300,\n",
    "\n",
    "# ----------------- Show Plot ------------------\n",
    "plt.show()\n"
   ]
  },
  {
   "cell_type": "code",
   "execution_count": 27,
   "id": "3bba020a",
   "metadata": {},
   "outputs": [
    {
     "data": {
      "image/png": "[encoded data removed]",
      "text/plain": [
       "<Figure size 576x432 with 1 Axes>"
      ]
     },
     "metadata": {
      "needs_background": "light"
     },
     "output_type": "display_data"
    }
   ],
   "source": [
    "# --------------- Plotting mx/my vs lambda2/lambda1 ----------------\n",
    "plt.figure()\n",
    "plt.plot(saved_x, mx / my, label=r\"$m_x/m_y$\", color='forestgreen')\n",
    "plt.title(r\"$\\frac{m_x}{m_y}$ vs $\\frac{\\lambda_2}{\\lambda_1}$\")\n",
    "plt.xlabel(r\"$\\lambda_2/\\lambda_1$\")\n",
    "plt.ylabel(r\"$m_x/m_y$\")\n",
    "plt.grid(True) #, linestyle='--', alpha=0.6)\n",
    "plt.legend()\n",
    "plt.tight_layout()\n",
    "\n",
    "# --------------- Save High-Resolution Figure ----------------\n",
    "plt.savefig(\"mx_over_my_vs_lambda2.png\", dpi=300, bbox_inches='tight', transparent=True)\n",
    "\n",
    "# --------------- Show Plot ----------------\n",
    "plt.show()"
   ]
  },
  {
   "cell_type": "code",
   "execution_count": null,
   "id": "4b1539a9",
   "metadata": {},
   "outputs": [],
   "source": []
  },
  {
   "cell_type": "code",
   "execution_count": null,
   "id": "831e1325",
   "metadata": {},
   "outputs": [],
   "source": []
  },
  {
   "cell_type": "code",
   "execution_count": null,
   "id": "e4778cc8",
   "metadata": {},
   "outputs": [],
   "source": []
  },
  {
   "cell_type": "code",
   "execution_count": null,
   "id": "d271e681",
   "metadata": {},
   "outputs": [],
   "source": []
  },
  {
   "cell_type": "code",
   "execution_count": null,
   "id": "3f71a696",
   "metadata": {},
   "outputs": [],
   "source": []
  },
  {
   "cell_type": "code",
   "execution_count": null,
   "id": "0ab4b537",
   "metadata": {},
   "outputs": [],
   "source": []
  }
 ],
 "metadata": {
  "kernelspec": {
   "display_name": "Python 3 (ipykernel)",
   "language": "python",
   "name": "python3"
  },
  "language_info": {
   "codemirror_mode": {
    "name": "ipython",
    "version": 3
   },
   "file_extension": ".py",
   "mimetype": "text/x-python",
   "name": "python",
   "nbconvert_exporter": "python",
   "pygments_lexer": "ipython3",
   "version": "3.8.8"
  }
 },
 "nbformat": 4,
 "nbformat_minor": 5
}
